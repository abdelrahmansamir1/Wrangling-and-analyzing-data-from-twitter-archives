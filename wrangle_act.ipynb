{
 "cells": [
  {
   "cell_type": "code",
   "execution_count": 3,
   "metadata": {},
   "outputs": [],
   "source": [
    "import tweepy\n",
    "import requests \n",
    "from tweepy import OAuthHandler\n",
    "import json\n",
    "from timeit import default_timer as timer\n",
    "import pandas as pd \n",
    "import numpy as np \n",
    "import seaborn as sns; sns.set()\n",
    "import matplotlib.pyplot as plt\n",
    "%matplotlib inline"
   ]
  },
  {
   "cell_type": "markdown",
   "metadata": {},
   "source": [
    "## read data from variance location "
   ]
  },
  {
   "cell_type": "code",
   "execution_count": 4,
   "metadata": {},
   "outputs": [],
   "source": [
    "df_arch=pd.read_csv('twitter-archive-enhanced.csv')\n",
    "\n"
   ]
  },
  {
   "cell_type": "code",
   "execution_count": 5,
   "metadata": {},
   "outputs": [],
   "source": [
    "url='https://d17h27t6h515a5.cloudfront.net/topher/2017/August/599fd2ad_image-predictions/image-predictions.tsv'\n",
    "response=requests.get(url)\n",
    "file_name= url.split('/')[-1]\n",
    "with open(file_name, 'wb') as file:\n",
    "     file.write(response.content)"
   ]
  },
  {
   "cell_type": "code",
   "execution_count": 7,
   "metadata": {},
   "outputs": [
    {
     "data": {
      "text/plain": [
       "<Response [200]>"
      ]
     },
     "execution_count": 7,
     "metadata": {},
     "output_type": "execute_result"
    }
   ],
   "source": [
    "response"
   ]
  },
  {
   "cell_type": "code",
   "execution_count": 8,
   "metadata": {},
   "outputs": [
    {
     "name": "stdout",
     "output_type": "stream",
     "text": [
      "<class 'pandas.core.frame.DataFrame'>\n",
      "RangeIndex: 2075 entries, 0 to 2074\n",
      "Data columns (total 12 columns):\n",
      " #   Column    Non-Null Count  Dtype  \n",
      "---  ------    --------------  -----  \n",
      " 0   tweet_id  2075 non-null   int64  \n",
      " 1   jpg_url   2075 non-null   object \n",
      " 2   img_num   2075 non-null   int64  \n",
      " 3   p1        2075 non-null   object \n",
      " 4   p1_conf   2075 non-null   float64\n",
      " 5   p1_dog    2075 non-null   bool   \n",
      " 6   p2        2075 non-null   object \n",
      " 7   p2_conf   2075 non-null   float64\n",
      " 8   p2_dog    2075 non-null   bool   \n",
      " 9   p3        2075 non-null   object \n",
      " 10  p3_conf   2075 non-null   float64\n",
      " 11  p3_dog    2075 non-null   bool   \n",
      "dtypes: bool(3), float64(3), int64(2), object(4)\n",
      "memory usage: 152.1+ KB\n"
     ]
    }
   ],
   "source": [
    "df_image=pd.read_csv('image-predictions.tsv', sep='\\t')\n",
    "df_image.info()"
   ]
  },
  {
   "cell_type": "markdown",
   "metadata": {},
   "source": [
    "# gathering data from twiiter "
   ]
  },
  {
   "cell_type": "code",
   "execution_count": 18,
   "metadata": {},
   "outputs": [
    {
     "name": "stdout",
     "output_type": "stream",
     "text": [
      "Error on tweet id 888202515573088257;[{'code': 144, 'message': 'No status found with that ID.'}]\n",
      "Error on tweet id 873697596434513921;[{'code': 144, 'message': 'No status found with that ID.'}]\n",
      "Error on tweet id 872668790621863937;[{'code': 144, 'message': 'No status found with that ID.'}]\n",
      "Error on tweet id 872261713294495745;[{'code': 144, 'message': 'No status found with that ID.'}]\n",
      "Error on tweet id 869988702071779329;[{'code': 144, 'message': 'No status found with that ID.'}]\n",
      "Error on tweet id 866816280283807744;[{'code': 144, 'message': 'No status found with that ID.'}]\n",
      "Error on tweet id 861769973181624320;[{'code': 144, 'message': 'No status found with that ID.'}]\n",
      "Error on tweet id 856602993587888130;[{'code': 144, 'message': 'No status found with that ID.'}]\n",
      "Error on tweet id 851953902622658560;[{'code': 144, 'message': 'No status found with that ID.'}]\n",
      "Error on tweet id 845459076796616705;[{'code': 144, 'message': 'No status found with that ID.'}]\n",
      "Error on tweet id 844704788403113984;[{'code': 144, 'message': 'No status found with that ID.'}]\n",
      "Error on tweet id 842892208864923648;[{'code': 144, 'message': 'No status found with that ID.'}]\n",
      "Error on tweet id 837366284874571778;[{'code': 144, 'message': 'No status found with that ID.'}]\n",
      "Error on tweet id 837012587749474308;[{'code': 144, 'message': 'No status found with that ID.'}]\n",
      "Error on tweet id 829374341691346946;[{'code': 144, 'message': 'No status found with that ID.'}]\n",
      "Error on tweet id 827228250799742977;[{'code': 144, 'message': 'No status found with that ID.'}]\n",
      "Error on tweet id 812747805718642688;[{'code': 144, 'message': 'No status found with that ID.'}]\n",
      "Error on tweet id 802247111496568832;[{'code': 144, 'message': 'No status found with that ID.'}]\n",
      "Error on tweet id 779123168116150273;[{'code': 144, 'message': 'No status found with that ID.'}]\n",
      "Error on tweet id 775096608509886464;[{'code': 144, 'message': 'No status found with that ID.'}]\n",
      "Error on tweet id 771004394259247104;[{'code': 179, 'message': 'Sorry, you are not authorized to see this status.'}]\n",
      "Error on tweet id 770743923962707968;[{'code': 144, 'message': 'No status found with that ID.'}]\n"
     ]
    },
    {
     "name": "stderr",
     "output_type": "stream",
     "text": [
      "Rate limit reached. Sleeping for: 332\n"
     ]
    },
    {
     "name": "stdout",
     "output_type": "stream",
     "text": [
      "Error on tweet id 759566828574212096;[{'code': 144, 'message': 'No status found with that ID.'}]\n",
      "Error on tweet id 754011816964026368;[{'code': 144, 'message': 'No status found with that ID.'}]\n",
      "Error on tweet id 680055455951884288;[{'code': 144, 'message': 'No status found with that ID.'}]\n"
     ]
    },
    {
     "name": "stderr",
     "output_type": "stream",
     "text": [
      "Rate limit reached. Sleeping for: 444\n"
     ]
    }
   ],
   "source": [
    "consumer_key = '**********************'\n",
    "consumer_secret = '*********************'\n",
    "access_token = '*****************************'\n",
    "access_secret = '***************'\n",
    "\n",
    "auth = tweepy.OAuthHandler(consumer_key, consumer_secret)\n",
    "auth.set_access_token(access_token, access_secret)\n",
    "\n",
    "api = tweepy.API(auth, wait_on_rate_limit=True, wait_on_rate_limit_notify=True)\n",
    "\n",
    "errors=[]\n",
    "with open ('tweet_json.txt', 'w') as file:\n",
    "    for tweet_id in df_arch['tweet_id']:\n",
    "        try:\n",
    "            status = api.get_status(tweet_id, wait_on_rate_limit=True,  wait_on_rate_limit_notify=True, tweet_mode = 'extended')\n",
    "            json.dump(status._json, file)\n",
    "            file.write('\\n')\n",
    "        except Exception as e:\n",
    "            print(\"Error on tweet id {}\".format(tweet_id) + \";\" + str(e))\n",
    "            errors.append(tweet_id)"
   ]
  },
  {
   "cell_type": "code",
   "execution_count": 10,
   "metadata": {},
   "outputs": [],
   "source": [
    "df_list=[]\n",
    "with open ('tweet_json.txt', 'r') as file:\n",
    "    for line in file:\n",
    "        tweet=json.loads(line)\n",
    "        df_list.append(tweet)\n",
    "\n",
    "df_api=pd.DataFrame(df_list)\n"
   ]
  },
  {
   "cell_type": "markdown",
   "metadata": {},
   "source": [
    "## Assessing data"
   ]
  },
  {
   "cell_type": "code",
   "execution_count": 169,
   "metadata": {},
   "outputs": [
    {
     "data": {
      "text/html": [
       "<div>\n",
       "<style scoped>\n",
       "    .dataframe tbody tr th:only-of-type {\n",
       "        vertical-align: middle;\n",
       "    }\n",
       "\n",
       "    .dataframe tbody tr th {\n",
       "        vertical-align: top;\n",
       "    }\n",
       "\n",
       "    .dataframe thead th {\n",
       "        text-align: right;\n",
       "    }\n",
       "</style>\n",
       "<table border=\"1\" class=\"dataframe\">\n",
       "  <thead>\n",
       "    <tr style=\"text-align: right;\">\n",
       "      <th></th>\n",
       "      <th>tweet_id</th>\n",
       "      <th>in_reply_to_status_id</th>\n",
       "      <th>in_reply_to_user_id</th>\n",
       "      <th>timestamp</th>\n",
       "      <th>source</th>\n",
       "      <th>text</th>\n",
       "      <th>retweeted_status_id</th>\n",
       "      <th>retweeted_status_user_id</th>\n",
       "      <th>retweeted_status_timestamp</th>\n",
       "      <th>expanded_urls</th>\n",
       "      <th>rating_numerator</th>\n",
       "      <th>rating_denominator</th>\n",
       "      <th>name</th>\n",
       "      <th>doggo</th>\n",
       "      <th>floofer</th>\n",
       "      <th>pupper</th>\n",
       "      <th>puppo</th>\n",
       "    </tr>\n",
       "  </thead>\n",
       "  <tbody>\n",
       "    <tr>\n",
       "      <th>0</th>\n",
       "      <td>892420643555336193</td>\n",
       "      <td>NaN</td>\n",
       "      <td>NaN</td>\n",
       "      <td>2017-08-01 16:23:56 +0000</td>\n",
       "      <td>&lt;a href=\"http://twitter.com/download/iphone\" r...</td>\n",
       "      <td>This is Phineas. He's a mystical boy. Only eve...</td>\n",
       "      <td>NaN</td>\n",
       "      <td>NaN</td>\n",
       "      <td>NaN</td>\n",
       "      <td>https://twitter.com/dog_rates/status/892420643...</td>\n",
       "      <td>13</td>\n",
       "      <td>10</td>\n",
       "      <td>Phineas</td>\n",
       "      <td>None</td>\n",
       "      <td>None</td>\n",
       "      <td>None</td>\n",
       "      <td>None</td>\n",
       "    </tr>\n",
       "    <tr>\n",
       "      <th>1</th>\n",
       "      <td>892177421306343426</td>\n",
       "      <td>NaN</td>\n",
       "      <td>NaN</td>\n",
       "      <td>2017-08-01 00:17:27 +0000</td>\n",
       "      <td>&lt;a href=\"http://twitter.com/download/iphone\" r...</td>\n",
       "      <td>This is Tilly. She's just checking pup on you....</td>\n",
       "      <td>NaN</td>\n",
       "      <td>NaN</td>\n",
       "      <td>NaN</td>\n",
       "      <td>https://twitter.com/dog_rates/status/892177421...</td>\n",
       "      <td>13</td>\n",
       "      <td>10</td>\n",
       "      <td>Tilly</td>\n",
       "      <td>None</td>\n",
       "      <td>None</td>\n",
       "      <td>None</td>\n",
       "      <td>None</td>\n",
       "    </tr>\n",
       "    <tr>\n",
       "      <th>2</th>\n",
       "      <td>891815181378084864</td>\n",
       "      <td>NaN</td>\n",
       "      <td>NaN</td>\n",
       "      <td>2017-07-31 00:18:03 +0000</td>\n",
       "      <td>&lt;a href=\"http://twitter.com/download/iphone\" r...</td>\n",
       "      <td>This is Archie. He is a rare Norwegian Pouncin...</td>\n",
       "      <td>NaN</td>\n",
       "      <td>NaN</td>\n",
       "      <td>NaN</td>\n",
       "      <td>https://twitter.com/dog_rates/status/891815181...</td>\n",
       "      <td>12</td>\n",
       "      <td>10</td>\n",
       "      <td>Archie</td>\n",
       "      <td>None</td>\n",
       "      <td>None</td>\n",
       "      <td>None</td>\n",
       "      <td>None</td>\n",
       "    </tr>\n",
       "  </tbody>\n",
       "</table>\n",
       "</div>"
      ],
      "text/plain": [
       "             tweet_id  in_reply_to_status_id  in_reply_to_user_id  \\\n",
       "0  892420643555336193                    NaN                  NaN   \n",
       "1  892177421306343426                    NaN                  NaN   \n",
       "2  891815181378084864                    NaN                  NaN   \n",
       "\n",
       "                   timestamp  \\\n",
       "0  2017-08-01 16:23:56 +0000   \n",
       "1  2017-08-01 00:17:27 +0000   \n",
       "2  2017-07-31 00:18:03 +0000   \n",
       "\n",
       "                                              source  \\\n",
       "0  <a href=\"http://twitter.com/download/iphone\" r...   \n",
       "1  <a href=\"http://twitter.com/download/iphone\" r...   \n",
       "2  <a href=\"http://twitter.com/download/iphone\" r...   \n",
       "\n",
       "                                                text  retweeted_status_id  \\\n",
       "0  This is Phineas. He's a mystical boy. Only eve...                  NaN   \n",
       "1  This is Tilly. She's just checking pup on you....                  NaN   \n",
       "2  This is Archie. He is a rare Norwegian Pouncin...                  NaN   \n",
       "\n",
       "   retweeted_status_user_id retweeted_status_timestamp  \\\n",
       "0                       NaN                        NaN   \n",
       "1                       NaN                        NaN   \n",
       "2                       NaN                        NaN   \n",
       "\n",
       "                                       expanded_urls  rating_numerator  \\\n",
       "0  https://twitter.com/dog_rates/status/892420643...                13   \n",
       "1  https://twitter.com/dog_rates/status/892177421...                13   \n",
       "2  https://twitter.com/dog_rates/status/891815181...                12   \n",
       "\n",
       "   rating_denominator     name doggo floofer pupper puppo  \n",
       "0                  10  Phineas  None    None   None  None  \n",
       "1                  10    Tilly  None    None   None  None  \n",
       "2                  10   Archie  None    None   None  None  "
      ]
     },
     "execution_count": 169,
     "metadata": {},
     "output_type": "execute_result"
    }
   ],
   "source": [
    "df_arch.head(3)"
   ]
  },
  {
   "cell_type": "code",
   "execution_count": 178,
   "metadata": {},
   "outputs": [
    {
     "data": {
      "text/plain": [
       "<a href=\"http://twitter.com/download/iphone\" rel=\"nofollow\">Twitter for iPhone</a>     2221\n",
       "<a href=\"http://vine.co\" rel=\"nofollow\">Vine - Make a Scene</a>                          91\n",
       "<a href=\"http://twitter.com\" rel=\"nofollow\">Twitter Web Client</a>                       33\n",
       "<a href=\"https://about.twitter.com/products/tweetdeck\" rel=\"nofollow\">TweetDeck</a>      11\n",
       "Name: source, dtype: int64"
      ]
     },
     "execution_count": 178,
     "metadata": {},
     "output_type": "execute_result"
    }
   ],
   "source": [
    "df_arch['source'].value_counts()"
   ]
  },
  {
   "cell_type": "code",
   "execution_count": 41,
   "metadata": {},
   "outputs": [
    {
     "name": "stdout",
     "output_type": "stream",
     "text": [
      "<class 'pandas.core.frame.DataFrame'>\n",
      "RangeIndex: 2356 entries, 0 to 2355\n",
      "Data columns (total 17 columns):\n",
      " #   Column                      Non-Null Count  Dtype  \n",
      "---  ------                      --------------  -----  \n",
      " 0   tweet_id                    2356 non-null   int64  \n",
      " 1   in_reply_to_status_id       78 non-null     float64\n",
      " 2   in_reply_to_user_id         78 non-null     float64\n",
      " 3   timestamp                   2356 non-null   object \n",
      " 4   source                      2356 non-null   object \n",
      " 5   text                        2356 non-null   object \n",
      " 6   retweeted_status_id         181 non-null    float64\n",
      " 7   retweeted_status_user_id    181 non-null    float64\n",
      " 8   retweeted_status_timestamp  181 non-null    object \n",
      " 9   expanded_urls               2297 non-null   object \n",
      " 10  rating_numerator            2356 non-null   int64  \n",
      " 11  rating_denominator          2356 non-null   int64  \n",
      " 12  name                        2356 non-null   object \n",
      " 13  doggo                       2356 non-null   object \n",
      " 14  floofer                     2356 non-null   object \n",
      " 15  pupper                      2356 non-null   object \n",
      " 16  puppo                       2356 non-null   object \n",
      "dtypes: float64(4), int64(3), object(10)\n",
      "memory usage: 313.0+ KB\n"
     ]
    }
   ],
   "source": [
    "df_arch.info()"
   ]
  },
  {
   "cell_type": "code",
   "execution_count": 42,
   "metadata": {},
   "outputs": [
    {
     "data": {
      "text/plain": [
       "tweet_id                         0\n",
       "in_reply_to_status_id         2278\n",
       "in_reply_to_user_id           2278\n",
       "timestamp                        0\n",
       "source                           0\n",
       "text                             0\n",
       "retweeted_status_id           2175\n",
       "retweeted_status_user_id      2175\n",
       "retweeted_status_timestamp    2175\n",
       "expanded_urls                   59\n",
       "rating_numerator                 0\n",
       "rating_denominator               0\n",
       "name                             0\n",
       "doggo                            0\n",
       "floofer                          0\n",
       "pupper                           0\n",
       "puppo                            0\n",
       "dtype: int64"
      ]
     },
     "execution_count": 42,
     "metadata": {},
     "output_type": "execute_result"
    }
   ],
   "source": [
    "df_arch.isnull().sum()"
   ]
  },
  {
   "cell_type": "code",
   "execution_count": 43,
   "metadata": {},
   "outputs": [
    {
     "data": {
      "text/plain": [
       "10     2333\n",
       "11        3\n",
       "50        3\n",
       "20        2\n",
       "80        2\n",
       "0         1\n",
       "120       1\n",
       "7         1\n",
       "170       1\n",
       "150       1\n",
       "130       1\n",
       "90        1\n",
       "110       1\n",
       "2         1\n",
       "70        1\n",
       "40        1\n",
       "16        1\n",
       "15        1\n",
       "Name: rating_denominator, dtype: int64"
      ]
     },
     "execution_count": 43,
     "metadata": {},
     "output_type": "execute_result"
    }
   ],
   "source": [
    "df_arch.rating_denominator.value_counts()"
   ]
  },
  {
   "cell_type": "code",
   "execution_count": 44,
   "metadata": {},
   "outputs": [
    {
     "data": {
      "text/plain": [
       "None     2326\n",
       "puppo      30\n",
       "Name: puppo, dtype: int64"
      ]
     },
     "execution_count": 44,
     "metadata": {},
     "output_type": "execute_result"
    }
   ],
   "source": [
    "#search more in columns  \n",
    "df_arch.doggo.value_counts()\n",
    "df_arch.floofer.value_counts()\n",
    "df_arch.pupper.value_counts()\n",
    "df_arch.puppo.value_counts()"
   ]
  },
  {
   "cell_type": "code",
   "execution_count": 45,
   "metadata": {},
   "outputs": [
    {
     "name": "stdout",
     "output_type": "stream",
     "text": [
      "<class 'pandas.core.frame.DataFrame'>\n",
      "RangeIndex: 2331 entries, 0 to 2330\n",
      "Data columns (total 32 columns):\n",
      " #   Column                         Non-Null Count  Dtype  \n",
      "---  ------                         --------------  -----  \n",
      " 0   created_at                     2331 non-null   object \n",
      " 1   id                             2331 non-null   int64  \n",
      " 2   id_str                         2331 non-null   object \n",
      " 3   full_text                      2331 non-null   object \n",
      " 4   truncated                      2331 non-null   bool   \n",
      " 5   display_text_range             2331 non-null   object \n",
      " 6   entities                       2331 non-null   object \n",
      " 7   extended_entities              2059 non-null   object \n",
      " 8   source                         2331 non-null   object \n",
      " 9   in_reply_to_status_id          77 non-null     float64\n",
      " 10  in_reply_to_status_id_str      77 non-null     object \n",
      " 11  in_reply_to_user_id            77 non-null     float64\n",
      " 12  in_reply_to_user_id_str        77 non-null     object \n",
      " 13  in_reply_to_screen_name        77 non-null     object \n",
      " 14  user                           2331 non-null   object \n",
      " 15  geo                            0 non-null      object \n",
      " 16  coordinates                    0 non-null      object \n",
      " 17  place                          1 non-null      object \n",
      " 18  contributors                   0 non-null      object \n",
      " 19  is_quote_status                2331 non-null   bool   \n",
      " 20  retweet_count                  2331 non-null   int64  \n",
      " 21  favorite_count                 2331 non-null   int64  \n",
      " 22  favorited                      2331 non-null   bool   \n",
      " 23  retweeted                      2331 non-null   bool   \n",
      " 24  possibly_sensitive             2197 non-null   object \n",
      " 25  possibly_sensitive_appealable  2197 non-null   object \n",
      " 26  lang                           2331 non-null   object \n",
      " 27  retweeted_status               163 non-null    object \n",
      " 28  quoted_status_id               26 non-null     float64\n",
      " 29  quoted_status_id_str           26 non-null     object \n",
      " 30  quoted_status_permalink        26 non-null     object \n",
      " 31  quoted_status                  24 non-null     object \n",
      "dtypes: bool(4), float64(3), int64(3), object(22)\n",
      "memory usage: 519.1+ KB\n"
     ]
    }
   ],
   "source": [
    "df_api.info()"
   ]
  },
  {
   "cell_type": "code",
   "execution_count": 46,
   "metadata": {},
   "outputs": [
    {
     "name": "stdout",
     "output_type": "stream",
     "text": [
      "<class 'pandas.core.frame.DataFrame'>\n",
      "RangeIndex: 2356 entries, 0 to 2355\n",
      "Data columns (total 17 columns):\n",
      " #   Column                      Non-Null Count  Dtype  \n",
      "---  ------                      --------------  -----  \n",
      " 0   tweet_id                    2356 non-null   int64  \n",
      " 1   in_reply_to_status_id       78 non-null     float64\n",
      " 2   in_reply_to_user_id         78 non-null     float64\n",
      " 3   timestamp                   2356 non-null   object \n",
      " 4   source                      2356 non-null   object \n",
      " 5   text                        2356 non-null   object \n",
      " 6   retweeted_status_id         181 non-null    float64\n",
      " 7   retweeted_status_user_id    181 non-null    float64\n",
      " 8   retweeted_status_timestamp  181 non-null    object \n",
      " 9   expanded_urls               2297 non-null   object \n",
      " 10  rating_numerator            2356 non-null   int64  \n",
      " 11  rating_denominator          2356 non-null   int64  \n",
      " 12  name                        2356 non-null   object \n",
      " 13  doggo                       2356 non-null   object \n",
      " 14  floofer                     2356 non-null   object \n",
      " 15  pupper                      2356 non-null   object \n",
      " 16  puppo                       2356 non-null   object \n",
      "dtypes: float64(4), int64(3), object(10)\n",
      "memory usage: 313.0+ KB\n"
     ]
    }
   ],
   "source": [
    "df_arch.info()\n"
   ]
  },
  {
   "cell_type": "code",
   "execution_count": 607,
   "metadata": {},
   "outputs": [
    {
     "data": {
      "text/plain": [
       "0"
      ]
     },
     "execution_count": 607,
     "metadata": {},
     "output_type": "execute_result"
    }
   ],
   "source": [
    "df_arch.tweet_id.isna().sum()"
   ]
  },
  {
   "cell_type": "code",
   "execution_count": 608,
   "metadata": {},
   "outputs": [
    {
     "data": {
      "text/plain": [
       "tweet_id                         0\n",
       "in_reply_to_status_id         2278\n",
       "in_reply_to_user_id           2278\n",
       "timestamp                        0\n",
       "source                           0\n",
       "text                             0\n",
       "retweeted_status_id           2175\n",
       "retweeted_status_user_id      2175\n",
       "retweeted_status_timestamp    2175\n",
       "expanded_urls                   59\n",
       "rating_numerator                 0\n",
       "rating_denominator               0\n",
       "name                             0\n",
       "doggo                            0\n",
       "floofer                          0\n",
       "pupper                           0\n",
       "puppo                            0\n",
       "dtype: int64"
      ]
     },
     "execution_count": 608,
     "metadata": {},
     "output_type": "execute_result"
    }
   ],
   "source": [
    "df_arch_clean.isnull().sum()"
   ]
  },
  {
   "cell_type": "code",
   "execution_count": 48,
   "metadata": {},
   "outputs": [
    {
     "data": {
      "text/html": [
       "<div>\n",
       "<style scoped>\n",
       "    .dataframe tbody tr th:only-of-type {\n",
       "        vertical-align: middle;\n",
       "    }\n",
       "\n",
       "    .dataframe tbody tr th {\n",
       "        vertical-align: top;\n",
       "    }\n",
       "\n",
       "    .dataframe thead th {\n",
       "        text-align: right;\n",
       "    }\n",
       "</style>\n",
       "<table border=\"1\" class=\"dataframe\">\n",
       "  <thead>\n",
       "    <tr style=\"text-align: right;\">\n",
       "      <th></th>\n",
       "      <th>tweet_id</th>\n",
       "      <th>jpg_url</th>\n",
       "      <th>img_num</th>\n",
       "      <th>p1</th>\n",
       "      <th>p1_conf</th>\n",
       "      <th>p1_dog</th>\n",
       "      <th>p2</th>\n",
       "      <th>p2_conf</th>\n",
       "      <th>p2_dog</th>\n",
       "      <th>p3</th>\n",
       "      <th>p3_conf</th>\n",
       "      <th>p3_dog</th>\n",
       "    </tr>\n",
       "  </thead>\n",
       "  <tbody>\n",
       "    <tr>\n",
       "      <th>0</th>\n",
       "      <td>666020888022790149</td>\n",
       "      <td>https://pbs.twimg.com/media/CT4udn0WwAA0aMy.jpg</td>\n",
       "      <td>1</td>\n",
       "      <td>Welsh_springer_spaniel</td>\n",
       "      <td>0.465074</td>\n",
       "      <td>True</td>\n",
       "      <td>collie</td>\n",
       "      <td>0.156665</td>\n",
       "      <td>True</td>\n",
       "      <td>Shetland_sheepdog</td>\n",
       "      <td>0.061428</td>\n",
       "      <td>True</td>\n",
       "    </tr>\n",
       "    <tr>\n",
       "      <th>1</th>\n",
       "      <td>666029285002620928</td>\n",
       "      <td>https://pbs.twimg.com/media/CT42GRgUYAA5iDo.jpg</td>\n",
       "      <td>1</td>\n",
       "      <td>redbone</td>\n",
       "      <td>0.506826</td>\n",
       "      <td>True</td>\n",
       "      <td>miniature_pinscher</td>\n",
       "      <td>0.074192</td>\n",
       "      <td>True</td>\n",
       "      <td>Rhodesian_ridgeback</td>\n",
       "      <td>0.072010</td>\n",
       "      <td>True</td>\n",
       "    </tr>\n",
       "    <tr>\n",
       "      <th>2</th>\n",
       "      <td>666033412701032449</td>\n",
       "      <td>https://pbs.twimg.com/media/CT4521TWwAEvMyu.jpg</td>\n",
       "      <td>1</td>\n",
       "      <td>German_shepherd</td>\n",
       "      <td>0.596461</td>\n",
       "      <td>True</td>\n",
       "      <td>malinois</td>\n",
       "      <td>0.138584</td>\n",
       "      <td>True</td>\n",
       "      <td>bloodhound</td>\n",
       "      <td>0.116197</td>\n",
       "      <td>True</td>\n",
       "    </tr>\n",
       "    <tr>\n",
       "      <th>3</th>\n",
       "      <td>666044226329800704</td>\n",
       "      <td>https://pbs.twimg.com/media/CT5Dr8HUEAA-lEu.jpg</td>\n",
       "      <td>1</td>\n",
       "      <td>Rhodesian_ridgeback</td>\n",
       "      <td>0.408143</td>\n",
       "      <td>True</td>\n",
       "      <td>redbone</td>\n",
       "      <td>0.360687</td>\n",
       "      <td>True</td>\n",
       "      <td>miniature_pinscher</td>\n",
       "      <td>0.222752</td>\n",
       "      <td>True</td>\n",
       "    </tr>\n",
       "    <tr>\n",
       "      <th>4</th>\n",
       "      <td>666049248165822465</td>\n",
       "      <td>https://pbs.twimg.com/media/CT5IQmsXIAAKY4A.jpg</td>\n",
       "      <td>1</td>\n",
       "      <td>miniature_pinscher</td>\n",
       "      <td>0.560311</td>\n",
       "      <td>True</td>\n",
       "      <td>Rottweiler</td>\n",
       "      <td>0.243682</td>\n",
       "      <td>True</td>\n",
       "      <td>Doberman</td>\n",
       "      <td>0.154629</td>\n",
       "      <td>True</td>\n",
       "    </tr>\n",
       "  </tbody>\n",
       "</table>\n",
       "</div>"
      ],
      "text/plain": [
       "             tweet_id                                          jpg_url  \\\n",
       "0  666020888022790149  https://pbs.twimg.com/media/CT4udn0WwAA0aMy.jpg   \n",
       "1  666029285002620928  https://pbs.twimg.com/media/CT42GRgUYAA5iDo.jpg   \n",
       "2  666033412701032449  https://pbs.twimg.com/media/CT4521TWwAEvMyu.jpg   \n",
       "3  666044226329800704  https://pbs.twimg.com/media/CT5Dr8HUEAA-lEu.jpg   \n",
       "4  666049248165822465  https://pbs.twimg.com/media/CT5IQmsXIAAKY4A.jpg   \n",
       "\n",
       "   img_num                      p1   p1_conf  p1_dog                  p2  \\\n",
       "0        1  Welsh_springer_spaniel  0.465074    True              collie   \n",
       "1        1                 redbone  0.506826    True  miniature_pinscher   \n",
       "2        1         German_shepherd  0.596461    True            malinois   \n",
       "3        1     Rhodesian_ridgeback  0.408143    True             redbone   \n",
       "4        1      miniature_pinscher  0.560311    True          Rottweiler   \n",
       "\n",
       "    p2_conf  p2_dog                   p3   p3_conf  p3_dog  \n",
       "0  0.156665    True    Shetland_sheepdog  0.061428    True  \n",
       "1  0.074192    True  Rhodesian_ridgeback  0.072010    True  \n",
       "2  0.138584    True           bloodhound  0.116197    True  \n",
       "3  0.360687    True   miniature_pinscher  0.222752    True  \n",
       "4  0.243682    True             Doberman  0.154629    True  "
      ]
     },
     "execution_count": 48,
     "metadata": {},
     "output_type": "execute_result"
    }
   ],
   "source": [
    "df_image.head()"
   ]
  },
  {
   "cell_type": "code",
   "execution_count": 49,
   "metadata": {},
   "outputs": [
    {
     "data": {
      "text/plain": [
       "created_at                          0\n",
       "id                                  0\n",
       "id_str                              0\n",
       "full_text                           0\n",
       "truncated                           0\n",
       "display_text_range                  0\n",
       "entities                            0\n",
       "extended_entities                 272\n",
       "source                              0\n",
       "in_reply_to_status_id            2254\n",
       "in_reply_to_status_id_str        2254\n",
       "in_reply_to_user_id              2254\n",
       "in_reply_to_user_id_str          2254\n",
       "in_reply_to_screen_name          2254\n",
       "user                                0\n",
       "geo                              2331\n",
       "coordinates                      2331\n",
       "place                            2330\n",
       "contributors                     2331\n",
       "is_quote_status                     0\n",
       "retweet_count                       0\n",
       "favorite_count                      0\n",
       "favorited                           0\n",
       "retweeted                           0\n",
       "possibly_sensitive                134\n",
       "possibly_sensitive_appealable     134\n",
       "lang                                0\n",
       "retweeted_status                 2168\n",
       "quoted_status_id                 2305\n",
       "quoted_status_id_str             2305\n",
       "quoted_status_permalink          2305\n",
       "quoted_status                    2307\n",
       "dtype: int64"
      ]
     },
     "execution_count": 49,
     "metadata": {},
     "output_type": "execute_result"
    }
   ],
   "source": [
    "df_api.isnull().sum()"
   ]
  },
  {
   "cell_type": "code",
   "execution_count": 27,
   "metadata": {},
   "outputs": [
    {
     "name": "stdout",
     "output_type": "stream",
     "text": [
      "<class 'pandas.core.frame.DataFrame'>\n",
      "RangeIndex: 2331 entries, 0 to 2330\n",
      "Data columns (total 32 columns):\n",
      " #   Column                         Non-Null Count  Dtype  \n",
      "---  ------                         --------------  -----  \n",
      " 0   created_at                     2331 non-null   object \n",
      " 1   id                             2331 non-null   int64  \n",
      " 2   id_str                         2331 non-null   object \n",
      " 3   full_text                      2331 non-null   object \n",
      " 4   truncated                      2331 non-null   bool   \n",
      " 5   display_text_range             2331 non-null   object \n",
      " 6   entities                       2331 non-null   object \n",
      " 7   extended_entities              2059 non-null   object \n",
      " 8   source                         2331 non-null   object \n",
      " 9   in_reply_to_status_id          77 non-null     float64\n",
      " 10  in_reply_to_status_id_str      77 non-null     object \n",
      " 11  in_reply_to_user_id            77 non-null     float64\n",
      " 12  in_reply_to_user_id_str        77 non-null     object \n",
      " 13  in_reply_to_screen_name        77 non-null     object \n",
      " 14  user                           2331 non-null   object \n",
      " 15  geo                            0 non-null      object \n",
      " 16  coordinates                    0 non-null      object \n",
      " 17  place                          1 non-null      object \n",
      " 18  contributors                   0 non-null      object \n",
      " 19  is_quote_status                2331 non-null   bool   \n",
      " 20  retweet_count                  2331 non-null   int64  \n",
      " 21  favorite_count                 2331 non-null   int64  \n",
      " 22  favorited                      2331 non-null   bool   \n",
      " 23  retweeted                      2331 non-null   bool   \n",
      " 24  possibly_sensitive             2197 non-null   object \n",
      " 25  possibly_sensitive_appealable  2197 non-null   object \n",
      " 26  lang                           2331 non-null   object \n",
      " 27  retweeted_status               163 non-null    object \n",
      " 28  quoted_status_id               26 non-null     float64\n",
      " 29  quoted_status_id_str           26 non-null     object \n",
      " 30  quoted_status_permalink        26 non-null     object \n",
      " 31  quoted_status                  24 non-null     object \n",
      "dtypes: bool(4), float64(3), int64(3), object(22)\n",
      "memory usage: 519.1+ KB\n"
     ]
    }
   ],
   "source": [
    "df_api.info()"
   ]
  },
  {
   "cell_type": "code",
   "execution_count": 30,
   "metadata": {},
   "outputs": [
    {
     "data": {
      "text/plain": [
       "a               55\n",
       "the              8\n",
       "an               7\n",
       "very             5\n",
       "one              4\n",
       "just             4\n",
       "quite            4\n",
       "getting          2\n",
       "mad              2\n",
       "not              2\n",
       "actually         2\n",
       "all              1\n",
       "infuriating      1\n",
       "by               1\n",
       "incredibly       1\n",
       "officially       1\n",
       "light            1\n",
       "old              1\n",
       "life             1\n",
       "my               1\n",
       "his              1\n",
       "unacceptable     1\n",
       "such             1\n",
       "this             1\n",
       "space            1\n",
       "Name: name, dtype: int64"
      ]
     },
     "execution_count": 30,
     "metadata": {},
     "output_type": "execute_result"
    }
   ],
   "source": [
    "df_arch[df_arch.name.str.islower()].name.value_counts()\n"
   ]
  },
  {
   "cell_type": "markdown",
   "metadata": {},
   "source": [
    "## Quality \n",
    "1. df_arch (name) have none instead of NaN and delet uniuque names .\n",
    "2. df_arch (expanded_urls) has NaN values.\n",
    "3. df_arch (source) Change provided URLs to the corresponding 4 categories.\n",
    "4. df_arch ('doggo', 'floofer', 'pupper', 'puppo') have none instead of NaN.\n",
    "5. df_arch (timestamp) is str instead of datetime.\n",
    "6. df_arch (rating_denominator) has values less than 10 and values more than 10 for ratings.\n",
    "7. df_api  (created_at) column is str instead of datetime.\n",
    "8. df_arch (rating_numerator) make type float and extract int from str  .\n",
    "9. df_image ('img_num') is not needed."
   ]
  },
  {
   "cell_type": "markdown",
   "metadata": {},
   "source": [
    "## tidiness \n",
    "1. df_api   Just 3 columns needed ( 'id',' retweet_count', 'favorite_count') .\n",
    "2. df_image (the columns ('p1', 'p1_dog', 'p1_conf', '...etc')) should be just breed and confidence .\n",
    "3. All datasets should be combined into 1 dataset only\n",
    "    \n"
   ]
  },
  {
   "cell_type": "markdown",
   "metadata": {},
   "source": [
    "# make copy for data\n",
    "\n"
   ]
  },
  {
   "cell_type": "code",
   "execution_count": 257,
   "metadata": {},
   "outputs": [],
   "source": [
    "df_arch_clean = df_arch.copy()\n",
    "df_image_clean = df_image.copy()\n",
    "df_api_clean = df_api.copy()"
   ]
  },
  {
   "cell_type": "code",
   "execution_count": 258,
   "metadata": {},
   "outputs": [
    {
     "data": {
      "text/plain": [
       "a               55\n",
       "the             8 \n",
       "an              7 \n",
       "very            5 \n",
       "just            4 \n",
       "quite           4 \n",
       "one             4 \n",
       "not             2 \n",
       "actually        2 \n",
       "mad             2 \n",
       "getting         2 \n",
       "this            1 \n",
       "officially      1 \n",
       "all             1 \n",
       "my              1 \n",
       "incredibly      1 \n",
       "such            1 \n",
       "life            1 \n",
       "space           1 \n",
       "light           1 \n",
       "old             1 \n",
       "unacceptable    1 \n",
       "his             1 \n",
       "by              1 \n",
       "infuriating     1 \n",
       "Name: name, dtype: int64"
      ]
     },
     "execution_count": 258,
     "metadata": {},
     "output_type": "execute_result"
    }
   ],
   "source": [
    "\n",
    "df_arch[df_arch.name.str.islower()].name.value_counts()\n"
   ]
  },
  {
   "cell_type": "markdown",
   "metadata": {},
   "source": [
    "## Define\n",
    "1:df_arch (name) have none instead of NaN and delet uniuque names\n"
   ]
  },
  {
   "cell_type": "markdown",
   "metadata": {},
   "source": [
    "## code"
   ]
  },
  {
   "cell_type": "code",
   "execution_count": 259,
   "metadata": {},
   "outputs": [],
   "source": [
    "df_arch_clean.name.replace(['such', 'a', 'quite', 'not', 'one', 'incredibly', 'mad',\n",
    "       'an', 'very', 'just', 'my', 'his', 'actually', 'getting',\n",
    "       'this', 'unacceptable', 'all', 'old', 'infuriating', 'the',\n",
    "       'by', 'officially', 'life', 'light', 'space', 'None'], np.nan, inplace=True)"
   ]
  },
  {
   "cell_type": "markdown",
   "metadata": {},
   "source": [
    "## test"
   ]
  },
  {
   "cell_type": "code",
   "execution_count": 260,
   "metadata": {},
   "outputs": [
    {
     "data": {
      "text/plain": [
       "Charlie    12\n",
       "Cooper     11\n",
       "Lucy       11\n",
       "Oliver     11\n",
       "Tucker     10\n",
       "           ..\n",
       "Ferg       1 \n",
       "Georgie    1 \n",
       "Hero       1 \n",
       "Mabel      1 \n",
       "Hector     1 \n",
       "Name: name, Length: 931, dtype: int64"
      ]
     },
     "execution_count": 260,
     "metadata": {},
     "output_type": "execute_result"
    }
   ],
   "source": [
    "df_arch_clean['name'].value_counts()"
   ]
  },
  {
   "cell_type": "markdown",
   "metadata": {},
   "source": [
    "## Define\n",
    "2:df_arch (expanded_urls) has NaN values"
   ]
  },
  {
   "cell_type": "markdown",
   "metadata": {},
   "source": [
    "## code"
   ]
  },
  {
   "cell_type": "code",
   "execution_count": 261,
   "metadata": {},
   "outputs": [],
   "source": [
    "df_arch_clean = df_arch_clean.loc[~df_arch_clean.expanded_urls.isnull()]"
   ]
  },
  {
   "cell_type": "markdown",
   "metadata": {},
   "source": [
    "# test"
   ]
  },
  {
   "cell_type": "code",
   "execution_count": 262,
   "metadata": {},
   "outputs": [
    {
     "name": "stdout",
     "output_type": "stream",
     "text": [
      "<class 'pandas.core.frame.DataFrame'>\n",
      "Int64Index: 2297 entries, 0 to 2355\n",
      "Data columns (total 17 columns):\n",
      " #   Column                      Non-Null Count  Dtype  \n",
      "---  ------                      --------------  -----  \n",
      " 0   tweet_id                    2297 non-null   int64  \n",
      " 1   in_reply_to_status_id       23 non-null     float64\n",
      " 2   in_reply_to_user_id         23 non-null     float64\n",
      " 3   timestamp                   2297 non-null   object \n",
      " 4   source                      2297 non-null   object \n",
      " 5   text                        2297 non-null   object \n",
      " 6   retweeted_status_id         180 non-null    float64\n",
      " 7   retweeted_status_user_id    180 non-null    float64\n",
      " 8   retweeted_status_timestamp  180 non-null    object \n",
      " 9   expanded_urls               2297 non-null   object \n",
      " 10  rating_numerator            2297 non-null   int64  \n",
      " 11  rating_denominator          2297 non-null   int64  \n",
      " 12  name                        1502 non-null   object \n",
      " 13  doggo                       2297 non-null   object \n",
      " 14  floofer                     2297 non-null   object \n",
      " 15  pupper                      2297 non-null   object \n",
      " 16  puppo                       2297 non-null   object \n",
      "dtypes: float64(4), int64(3), object(10)\n",
      "memory usage: 323.0+ KB\n"
     ]
    }
   ],
   "source": [
    "df_arch_clean['expanded_urls'].isnull().sum()\n",
    "\n",
    "df_arch_clean.info()"
   ]
  },
  {
   "cell_type": "markdown",
   "metadata": {},
   "source": [
    "## Define\n",
    "3:df_arch (source) Change provided URLs to the corresponding 4 categories"
   ]
  },
  {
   "cell_type": "markdown",
   "metadata": {},
   "source": [
    "# code"
   ]
  },
  {
   "cell_type": "code",
   "execution_count": 263,
   "metadata": {},
   "outputs": [],
   "source": [
    "source_list = ['<a href=\"http://twitter.com/download/iphone\" rel=\"nofollow\">Twitter for iPhone</a>',\n",
    "              '<a href=\"http://vine.co\" rel=\"nofollow\">Vine - Make a Scene</a>',\n",
    "              '<a href=\"http://twitter.com\" rel=\"nofollow\">Twitter Web Client</a>',\n",
    "              '<a href=\"https://about.twitter.com/products/tweetdeck\" rel=\"nofollow\">TweetDeck</a>']\n",
    "\n",
    "new_source_list = ['Twitter for iPhone', 'Vine', 'Twitter Web Client', 'TweetDeck']\n",
    "df_arch_clean['source'].replace(source_list, new_source_list, inplace=True)"
   ]
  },
  {
   "cell_type": "markdown",
   "metadata": {},
   "source": [
    "# test"
   ]
  },
  {
   "cell_type": "code",
   "execution_count": 264,
   "metadata": {},
   "outputs": [
    {
     "data": {
      "text/plain": [
       "Twitter for iPhone    2163\n",
       "Vine                  91  \n",
       "Twitter Web Client    32  \n",
       "TweetDeck             11  \n",
       "Name: source, dtype: int64"
      ]
     },
     "execution_count": 264,
     "metadata": {},
     "output_type": "execute_result"
    }
   ],
   "source": [
    "df_arch_clean['source'] .value_counts()\n",
    "\n"
   ]
  },
  {
   "cell_type": "markdown",
   "metadata": {},
   "source": [
    "## Define \n",
    "4:df_arch ('doggo', 'floofer', 'pupper', 'puppo') have none instead of NaN"
   ]
  },
  {
   "cell_type": "markdown",
   "metadata": {},
   "source": [
    "# code"
   ]
  },
  {
   "cell_type": "code",
   "execution_count": 265,
   "metadata": {},
   "outputs": [],
   "source": [
    "col_repl=['doggo','floofer','pupper','puppo']\n",
    "df_arch_clean[col_repl]=df_arch_clean[col_repl].replace('None','')\n",
    "df_arch_clean['dog_stage'] = df_arch_clean.doggo + df_arch_clean.floofer + df_arch_clean.pupper + df_arch_clean.puppo\n",
    "f_arch_clean = df_arch_clean.drop(columns = col_repl, axis =1)\n",
    "df_arch_clean['dog_stage']=df_arch_clean['dog_stage'].replace('',np.nan)"
   ]
  },
  {
   "cell_type": "markdown",
   "metadata": {},
   "source": [
    "# test"
   ]
  },
  {
   "cell_type": "code",
   "execution_count": 266,
   "metadata": {},
   "outputs": [
    {
     "name": "stdout",
     "output_type": "stream",
     "text": [
      "<class 'pandas.core.frame.DataFrame'>\n",
      "Int64Index: 2297 entries, 0 to 2355\n",
      "Data columns (total 14 columns):\n",
      " #   Column                      Non-Null Count  Dtype  \n",
      "---  ------                      --------------  -----  \n",
      " 0   tweet_id                    2297 non-null   int64  \n",
      " 1   in_reply_to_status_id       23 non-null     float64\n",
      " 2   in_reply_to_user_id         23 non-null     float64\n",
      " 3   timestamp                   2297 non-null   object \n",
      " 4   source                      2297 non-null   object \n",
      " 5   text                        2297 non-null   object \n",
      " 6   retweeted_status_id         180 non-null    float64\n",
      " 7   retweeted_status_user_id    180 non-null    float64\n",
      " 8   retweeted_status_timestamp  180 non-null    object \n",
      " 9   expanded_urls               2297 non-null   object \n",
      " 10  rating_numerator            2297 non-null   int64  \n",
      " 11  rating_denominator          2297 non-null   int64  \n",
      " 12  name                        1502 non-null   object \n",
      " 13  dog_stage                   374 non-null    object \n",
      "dtypes: float64(4), int64(3), object(7)\n",
      "memory usage: 269.2+ KB\n"
     ]
    }
   ],
   "source": [
    "df_arch_clean = df_arch_clean.drop(columns = col_repl, axis =1)\n",
    "df_arch_clean.info()"
   ]
  },
  {
   "cell_type": "markdown",
   "metadata": {},
   "source": [
    "## Define\n",
    "5:df_arch (timestamp) is str instead of datetime"
   ]
  },
  {
   "cell_type": "markdown",
   "metadata": {},
   "source": [
    "# code"
   ]
  },
  {
   "cell_type": "code",
   "execution_count": 267,
   "metadata": {},
   "outputs": [],
   "source": [
    "df_arch_clean.timestamp=pd.to_datetime(df_arch_clean.timestamp)"
   ]
  },
  {
   "cell_type": "markdown",
   "metadata": {},
   "source": [
    "# test"
   ]
  },
  {
   "cell_type": "code",
   "execution_count": 268,
   "metadata": {},
   "outputs": [
    {
     "data": {
      "text/plain": [
       "datetime64[ns, UTC]"
      ]
     },
     "execution_count": 268,
     "metadata": {},
     "output_type": "execute_result"
    }
   ],
   "source": [
    "df_arch_clean.timestamp.dtype"
   ]
  },
  {
   "cell_type": "markdown",
   "metadata": {},
   "source": [
    "## Define\n",
    "6:df_arch (rating_denominator) has values less than 10 and values more than 10 for ratings "
   ]
  },
  {
   "cell_type": "markdown",
   "metadata": {},
   "source": [
    "# code"
   ]
  },
  {
   "cell_type": "code",
   "execution_count": 269,
   "metadata": {},
   "outputs": [],
   "source": [
    "for n in df_arch_clean.rating_denominator:\n",
    "    if n == 10:\n",
    "        df_arch_clean.rating_denominator=n            "
   ]
  },
  {
   "cell_type": "code",
   "execution_count": 270,
   "metadata": {},
   "outputs": [
    {
     "data": {
      "text/plain": [
       "10    2297\n",
       "Name: rating_denominator, dtype: int64"
      ]
     },
     "execution_count": 270,
     "metadata": {},
     "output_type": "execute_result"
    }
   ],
   "source": [
    "\n",
    "df_arch_clean.rating_denominator.value_counts()"
   ]
  },
  {
   "cell_type": "markdown",
   "metadata": {},
   "source": [
    "# test"
   ]
  },
  {
   "cell_type": "code",
   "execution_count": 271,
   "metadata": {},
   "outputs": [
    {
     "data": {
      "text/plain": [
       "10    2297\n",
       "Name: rating_denominator, dtype: int64"
      ]
     },
     "execution_count": 271,
     "metadata": {},
     "output_type": "execute_result"
    }
   ],
   "source": [
    "df_arch_clean.rating_denominator.value_counts()"
   ]
  },
  {
   "cell_type": "markdown",
   "metadata": {},
   "source": [
    "## Define\n",
    "7:df_api  (created_at) column is str instead of datetime\n"
   ]
  },
  {
   "cell_type": "markdown",
   "metadata": {},
   "source": [
    "# code"
   ]
  },
  {
   "cell_type": "code",
   "execution_count": 272,
   "metadata": {},
   "outputs": [],
   "source": [
    "df_api_clean.created_at=pd.to_datetime(df_api_clean.created_at)"
   ]
  },
  {
   "cell_type": "markdown",
   "metadata": {},
   "source": [
    "# test"
   ]
  },
  {
   "cell_type": "code",
   "execution_count": 273,
   "metadata": {},
   "outputs": [
    {
     "data": {
      "text/plain": [
       "datetime64[ns, UTC]"
      ]
     },
     "execution_count": 273,
     "metadata": {},
     "output_type": "execute_result"
    }
   ],
   "source": [
    "df_api_clean.created_at.dtype"
   ]
  },
  {
   "cell_type": "markdown",
   "metadata": {},
   "source": [
    "## Define\n",
    "8:df_arch (rating_numerator) make type float and extract int from str \n"
   ]
  },
  {
   "cell_type": "markdown",
   "metadata": {},
   "source": [
    "# code"
   ]
  },
  {
   "cell_type": "code",
   "execution_count": 274,
   "metadata": {},
   "outputs": [],
   "source": [
    "df_arch_clean['rating_numerator'] = df_arch_clean.text.str.extract('(\\d+\\.?\\d?\\d?)\\/\\d{1,3}', expand = False).astype('float')\n",
    "\n"
   ]
  },
  {
   "cell_type": "markdown",
   "metadata": {},
   "source": [
    "# test"
   ]
  },
  {
   "cell_type": "code",
   "execution_count": 275,
   "metadata": {},
   "outputs": [
    {
     "data": {
      "text/plain": [
       "12.00      547\n",
       "11.00      455\n",
       "10.00      455\n",
       "13.00      339\n",
       "9.00       156\n",
       "8.00       102\n",
       "7.00       53 \n",
       "14.00      50 \n",
       "5.00       34 \n",
       "6.00       32 \n",
       "3.00       19 \n",
       "4.00       16 \n",
       "2.00       9  \n",
       "1.00       6  \n",
       "9.75       2  \n",
       "0.00       2  \n",
       "165.00     1  \n",
       "420.00     1  \n",
       "99.00      1  \n",
       "84.00      1  \n",
       "60.00      1  \n",
       "88.00      1  \n",
       "80.00      1  \n",
       "1776.00    1  \n",
       "13.50      1  \n",
       "11.27      1  \n",
       "15.00      1  \n",
       "144.00     1  \n",
       "121.00     1  \n",
       "11.26      1  \n",
       "50.00      1  \n",
       "204.00     1  \n",
       "45.00      1  \n",
       "24.00      1  \n",
       "44.00      1  \n",
       "143.00     1  \n",
       "Name: rating_numerator, dtype: int64"
      ]
     },
     "execution_count": 275,
     "metadata": {},
     "output_type": "execute_result"
    }
   ],
   "source": [
    "df_arch_clean.rating_numerator.value_counts()\n"
   ]
  },
  {
   "cell_type": "markdown",
   "metadata": {},
   "source": [
    "\n",
    "\n",
    "\n",
    "## Define\n",
    "9:df_image ( img_num) is not needed\n"
   ]
  },
  {
   "cell_type": "markdown",
   "metadata": {},
   "source": [
    "# code"
   ]
  },
  {
   "cell_type": "code",
   "execution_count": 276,
   "metadata": {},
   "outputs": [],
   "source": [
    "df_image_clean.drop(columns='img_num', axis=1 ,inplace=True)"
   ]
  },
  {
   "cell_type": "markdown",
   "metadata": {},
   "source": [
    "# test"
   ]
  },
  {
   "cell_type": "code",
   "execution_count": 277,
   "metadata": {},
   "outputs": [
    {
     "data": {
      "text/plain": [
       "Index(['tweet_id', 'jpg_url', 'p1', 'p1_conf', 'p1_dog', 'p2', 'p2_conf',\n",
       "       'p2_dog', 'p3', 'p3_conf', 'p3_dog'],\n",
       "      dtype='object')"
      ]
     },
     "execution_count": 277,
     "metadata": {},
     "output_type": "execute_result"
    }
   ],
   "source": [
    "df_image_clean.columns"
   ]
  },
  {
   "cell_type": "markdown",
   "metadata": {},
   "source": [
    "## Define\n",
    "\n",
    "1:df_image (the columns (p1, p1_dog, p1_conf, ...etc)) should be just breed and confidence\n"
   ]
  },
  {
   "cell_type": "markdown",
   "metadata": {},
   "source": [
    "# code"
   ]
  },
  {
   "cell_type": "code",
   "execution_count": 278,
   "metadata": {},
   "outputs": [],
   "source": [
    "# Create breed and confidence columns with highest confidence predictions and drop other columns\n",
    "breed = []\n",
    "confidence = []\n",
    "# iterating over df_pred row by row and taking the highest confident prediction other wise np.nan\n",
    "for index, row in df_image_clean.iterrows():\n",
    "    if row['p1_dog'] and row['p1_conf'] == max([row['p1_conf'], row['p2_conf'], row['p3_conf']]):\n",
    "        breed.append(row['p1'])\n",
    "        confidence.append(row['p1_conf'])\n",
    "    elif row['p2_dog'] and row['p2_conf'] == max([row['p1_conf'], row['p2_conf'], row['p3_conf']]):\n",
    "        breed.append(row['p2'])\n",
    "        confidence.append(row['p2_conf'])\n",
    "    elif row['p3_dog'] and row['p3_conf'] == max([row['p1_conf'], row['p2_conf'], row['p3_conf']]):\n",
    "        breed.append(row['p3'])\n",
    "        confidence.append(row['p3_conf'])\n",
    "    else:\n",
    "        breed.append(np.nan)\n",
    "        confidence.append(np.nan)\n",
    "        \n",
    "df_image_clean['breed'] = breed\n",
    "df_image_clean['confidence'] = confidence"
   ]
  },
  {
   "cell_type": "markdown",
   "metadata": {},
   "source": [
    "# test"
   ]
  },
  {
   "cell_type": "code",
   "execution_count": 279,
   "metadata": {},
   "outputs": [
    {
     "data": {
      "text/html": [
       "<div>\n",
       "<style scoped>\n",
       "    .dataframe tbody tr th:only-of-type {\n",
       "        vertical-align: middle;\n",
       "    }\n",
       "\n",
       "    .dataframe tbody tr th {\n",
       "        vertical-align: top;\n",
       "    }\n",
       "\n",
       "    .dataframe thead th {\n",
       "        text-align: right;\n",
       "    }\n",
       "</style>\n",
       "<table border=\"1\" class=\"dataframe\">\n",
       "  <thead>\n",
       "    <tr style=\"text-align: right;\">\n",
       "      <th></th>\n",
       "      <th>tweet_id</th>\n",
       "      <th>jpg_url</th>\n",
       "      <th>p1</th>\n",
       "      <th>p1_conf</th>\n",
       "      <th>p1_dog</th>\n",
       "      <th>p2</th>\n",
       "      <th>p2_conf</th>\n",
       "      <th>p2_dog</th>\n",
       "      <th>p3</th>\n",
       "      <th>p3_conf</th>\n",
       "      <th>p3_dog</th>\n",
       "      <th>breed</th>\n",
       "      <th>confidence</th>\n",
       "    </tr>\n",
       "  </thead>\n",
       "  <tbody>\n",
       "    <tr>\n",
       "      <th>0</th>\n",
       "      <td>666020888022790149</td>\n",
       "      <td>https://pbs.twimg.com/media/CT4udn0WwAA0aMy.jpg</td>\n",
       "      <td>Welsh_springer_spaniel</td>\n",
       "      <td>0.465074</td>\n",
       "      <td>True</td>\n",
       "      <td>collie</td>\n",
       "      <td>0.156665</td>\n",
       "      <td>True</td>\n",
       "      <td>Shetland_sheepdog</td>\n",
       "      <td>0.061428</td>\n",
       "      <td>True</td>\n",
       "      <td>Welsh_springer_spaniel</td>\n",
       "      <td>0.465074</td>\n",
       "    </tr>\n",
       "    <tr>\n",
       "      <th>1</th>\n",
       "      <td>666029285002620928</td>\n",
       "      <td>https://pbs.twimg.com/media/CT42GRgUYAA5iDo.jpg</td>\n",
       "      <td>redbone</td>\n",
       "      <td>0.506826</td>\n",
       "      <td>True</td>\n",
       "      <td>miniature_pinscher</td>\n",
       "      <td>0.074192</td>\n",
       "      <td>True</td>\n",
       "      <td>Rhodesian_ridgeback</td>\n",
       "      <td>0.072010</td>\n",
       "      <td>True</td>\n",
       "      <td>redbone</td>\n",
       "      <td>0.506826</td>\n",
       "    </tr>\n",
       "  </tbody>\n",
       "</table>\n",
       "</div>"
      ],
      "text/plain": [
       "             tweet_id                                          jpg_url  \\\n",
       "0  666020888022790149  https://pbs.twimg.com/media/CT4udn0WwAA0aMy.jpg   \n",
       "1  666029285002620928  https://pbs.twimg.com/media/CT42GRgUYAA5iDo.jpg   \n",
       "\n",
       "                       p1   p1_conf  p1_dog                  p2   p2_conf  \\\n",
       "0  Welsh_springer_spaniel  0.465074  True    collie              0.156665   \n",
       "1  redbone                 0.506826  True    miniature_pinscher  0.074192   \n",
       "\n",
       "   p2_dog                   p3   p3_conf  p3_dog                   breed  \\\n",
       "0  True    Shetland_sheepdog    0.061428  True    Welsh_springer_spaniel   \n",
       "1  True    Rhodesian_ridgeback  0.072010  True    redbone                  \n",
       "\n",
       "   confidence  \n",
       "0  0.465074    \n",
       "1  0.506826    "
      ]
     },
     "execution_count": 279,
     "metadata": {},
     "output_type": "execute_result"
    }
   ],
   "source": [
    "df_image_clean.head(2)"
   ]
  },
  {
   "cell_type": "markdown",
   "metadata": {},
   "source": [
    "## Define \n",
    "\n",
    "2:Just 3 columns needed id, retweet_count, favorite_count\n"
   ]
  },
  {
   "cell_type": "markdown",
   "metadata": {},
   "source": [
    "# code"
   ]
  },
  {
   "cell_type": "code",
   "execution_count": 280,
   "metadata": {},
   "outputs": [
    {
     "name": "stdout",
     "output_type": "stream",
     "text": [
      "<class 'pandas.core.frame.DataFrame'>\n",
      "RangeIndex: 2075 entries, 0 to 2074\n",
      "Data columns (total 4 columns):\n",
      " #   Column      Non-Null Count  Dtype  \n",
      "---  ------      --------------  -----  \n",
      " 0   tweet_id    2075 non-null   int64  \n",
      " 1   jpg_url     2075 non-null   object \n",
      " 2   breed       1532 non-null   object \n",
      " 3   confidence  1532 non-null   float64\n",
      "dtypes: float64(1), int64(1), object(2)\n",
      "memory usage: 65.0+ KB\n"
     ]
    }
   ],
   "source": [
    "df_image_clean = df_image_clean[['tweet_id', 'jpg_url', 'breed', 'confidence']]\n",
    "\n",
    "df_image_clean.info()\n"
   ]
  },
  {
   "cell_type": "code",
   "execution_count": 281,
   "metadata": {},
   "outputs": [
    {
     "data": {
      "text/plain": [
       "retweeted_status_id           180\n",
       "retweeted_status_user_id      180\n",
       "retweeted_status_timestamp    180\n",
       "dtype: int64"
      ]
     },
     "execution_count": 281,
     "metadata": {},
     "output_type": "execute_result"
    }
   ],
   "source": [
    "cola=['retweeted_status_id', 'retweeted_status_user_id', 'retweeted_status_timestamp']\n",
    "df_arch_clean[cola].notnull().sum()"
   ]
  },
  {
   "cell_type": "code",
   "execution_count": 282,
   "metadata": {},
   "outputs": [],
   "source": [
    "df_arch_clean = df_arch_clean.loc[~df_arch_clean.retweeted_status_id.notnull()]"
   ]
  },
  {
   "cell_type": "code",
   "execution_count": 283,
   "metadata": {},
   "outputs": [
    {
     "name": "stdout",
     "output_type": "stream",
     "text": [
      "<class 'pandas.core.frame.DataFrame'>\n",
      "Int64Index: 2117 entries, 0 to 2355\n",
      "Data columns (total 14 columns):\n",
      " #   Column                      Non-Null Count  Dtype              \n",
      "---  ------                      --------------  -----              \n",
      " 0   tweet_id                    2117 non-null   int64              \n",
      " 1   in_reply_to_status_id       23 non-null     float64            \n",
      " 2   in_reply_to_user_id         23 non-null     float64            \n",
      " 3   timestamp                   2117 non-null   datetime64[ns, UTC]\n",
      " 4   source                      2117 non-null   object             \n",
      " 5   text                        2117 non-null   object             \n",
      " 6   retweeted_status_id         0 non-null      float64            \n",
      " 7   retweeted_status_user_id    0 non-null      float64            \n",
      " 8   retweeted_status_timestamp  0 non-null      object             \n",
      " 9   expanded_urls               2117 non-null   object             \n",
      " 10  rating_numerator            2117 non-null   float64            \n",
      " 11  rating_denominator          2117 non-null   int64              \n",
      " 12  name                        1391 non-null   object             \n",
      " 13  dog_stage                   338 non-null    object             \n",
      "dtypes: datetime64[ns, UTC](1), float64(5), int64(2), object(6)\n",
      "memory usage: 248.1+ KB\n"
     ]
    }
   ],
   "source": [
    "df_arch_clean.info()"
   ]
  },
  {
   "cell_type": "code",
   "execution_count": 284,
   "metadata": {},
   "outputs": [
    {
     "name": "stdout",
     "output_type": "stream",
     "text": [
      "<class 'pandas.core.frame.DataFrame'>\n",
      "Int64Index: 2117 entries, 0 to 2355\n",
      "Data columns (total 9 columns):\n",
      " #   Column              Non-Null Count  Dtype              \n",
      "---  ------              --------------  -----              \n",
      " 0   tweet_id            2117 non-null   int64              \n",
      " 1   timestamp           2117 non-null   datetime64[ns, UTC]\n",
      " 2   source              2117 non-null   object             \n",
      " 3   text                2117 non-null   object             \n",
      " 4   expanded_urls       2117 non-null   object             \n",
      " 5   rating_numerator    2117 non-null   float64            \n",
      " 6   rating_denominator  2117 non-null   int64              \n",
      " 7   name                1391 non-null   object             \n",
      " 8   dog_stage           338 non-null    object             \n",
      "dtypes: datetime64[ns, UTC](1), float64(1), int64(2), object(5)\n",
      "memory usage: 165.4+ KB\n"
     ]
    }
   ],
   "source": [
    "cols = ['in_reply_to_status_id','in_reply_to_user_id','retweeted_status_id',\n",
    "           'retweeted_status_user_id', 'retweeted_status_timestamp']\n",
    "df_arch_clean.drop(columns = cols, axis=1, inplace=True)\n",
    "df_arch_clean.info()"
   ]
  },
  {
   "cell_type": "code",
   "execution_count": 285,
   "metadata": {},
   "outputs": [],
   "source": [
    "df_api_clean.rename(columns={'id':'tweet_id'},inplace=True)\n"
   ]
  },
  {
   "cell_type": "code",
   "execution_count": 286,
   "metadata": {},
   "outputs": [],
   "source": [
    "# Just 3 columns needed tweet_id, retweet_count, favorite_count\n",
    "df_api_clean = df_api_clean[['tweet_id', 'retweet_count', 'favorite_count']]\n"
   ]
  },
  {
   "cell_type": "markdown",
   "metadata": {},
   "source": [
    "# test"
   ]
  },
  {
   "cell_type": "code",
   "execution_count": 287,
   "metadata": {},
   "outputs": [
    {
     "data": {
      "text/plain": [
       "tweet_id              0   \n",
       "timestamp             0   \n",
       "source                0   \n",
       "text                  0   \n",
       "expanded_urls         0   \n",
       "rating_numerator      0   \n",
       "rating_denominator    0   \n",
       "name                  726 \n",
       "dog_stage             1779\n",
       "dtype: int64"
      ]
     },
     "execution_count": 287,
     "metadata": {},
     "output_type": "execute_result"
    }
   ],
   "source": [
    "df_arch_clean.isnull().sum()"
   ]
  },
  {
   "cell_type": "markdown",
   "metadata": {},
   "source": [
    "## Define\n",
    "3:All datasets should be combined into 1 dataset only"
   ]
  },
  {
   "cell_type": "markdown",
   "metadata": {},
   "source": [
    "# code"
   ]
  },
  {
   "cell_type": "code",
   "execution_count": 288,
   "metadata": {},
   "outputs": [],
   "source": [
    "t_arch_master= pd.merge(df_arch_clean, df_image_clean, on = \"tweet_id\", how = \"left\")"
   ]
  },
  {
   "cell_type": "code",
   "execution_count": 289,
   "metadata": {},
   "outputs": [],
   "source": [
    "t_arch_master = pd.merge(t_arch_master, df_api_clean, on = \"tweet_id\", how = \"left\")"
   ]
  },
  {
   "cell_type": "markdown",
   "metadata": {},
   "source": [
    "# test"
   ]
  },
  {
   "cell_type": "code",
   "execution_count": 290,
   "metadata": {},
   "outputs": [
    {
     "data": {
      "text/plain": [
       "tweet_id              0   \n",
       "timestamp             0   \n",
       "source                0   \n",
       "text                  0   \n",
       "expanded_urls         0   \n",
       "rating_numerator      0   \n",
       "rating_denominator    0   \n",
       "name                  726 \n",
       "dog_stage             1779\n",
       "jpg_url               123 \n",
       "breed                 640 \n",
       "confidence            640 \n",
       "retweet_count         7   \n",
       "favorite_count        7   \n",
       "dtype: int64"
      ]
     },
     "execution_count": 290,
     "metadata": {},
     "output_type": "execute_result"
    }
   ],
   "source": [
    "t_arch_master.isnull().sum()"
   ]
  },
  {
   "cell_type": "code",
   "execution_count": 291,
   "metadata": {},
   "outputs": [],
   "source": [
    "t_arch_master.to_csv('twitter_archive_master.csv',index=False)"
   ]
  },
  {
   "cell_type": "code",
   "execution_count": 292,
   "metadata": {},
   "outputs": [
    {
     "name": "stdout",
     "output_type": "stream",
     "text": [
      "<class 'pandas.core.frame.DataFrame'>\n",
      "RangeIndex: 2117 entries, 0 to 2116\n",
      "Data columns (total 14 columns):\n",
      " #   Column              Non-Null Count  Dtype  \n",
      "---  ------              --------------  -----  \n",
      " 0   tweet_id            2117 non-null   int64  \n",
      " 1   timestamp           2117 non-null   object \n",
      " 2   source              2117 non-null   object \n",
      " 3   text                2117 non-null   object \n",
      " 4   expanded_urls       2117 non-null   object \n",
      " 5   rating_numerator    2117 non-null   float64\n",
      " 6   rating_denominator  2117 non-null   int64  \n",
      " 7   name                1391 non-null   object \n",
      " 8   dog_stage           338 non-null    object \n",
      " 9   jpg_url             1994 non-null   object \n",
      " 10  breed               1477 non-null   object \n",
      " 11  confidence          1477 non-null   float64\n",
      " 12  retweet_count       2110 non-null   float64\n",
      " 13  favorite_count      2110 non-null   float64\n",
      "dtypes: float64(4), int64(2), object(8)\n",
      "memory usage: 231.7+ KB\n"
     ]
    }
   ],
   "source": [
    "df_master =pd.read_csv('twitter_archive_master.csv')\n",
    "#and checking the file with .info after reading it:\n",
    "df_master.info()"
   ]
  },
  {
   "cell_type": "code",
   "execution_count": 293,
   "metadata": {},
   "outputs": [
    {
     "data": {
      "text/plain": [
       "datetime64[ns, UTC]"
      ]
     },
     "execution_count": 293,
     "metadata": {},
     "output_type": "execute_result"
    }
   ],
   "source": [
    "df_master.timestamp=pd.to_datetime(df_master.timestamp)\n",
    "df_master.timestamp.dtype"
   ]
  },
  {
   "cell_type": "code",
   "execution_count": 294,
   "metadata": {},
   "outputs": [],
   "source": [
    "df_master.tweet_id=df_master.tweet_id.astype(str)\n"
   ]
  },
  {
   "cell_type": "code",
   "execution_count": 295,
   "metadata": {},
   "outputs": [
    {
     "data": {
      "text/plain": [
       "dtype('O')"
      ]
     },
     "execution_count": 295,
     "metadata": {},
     "output_type": "execute_result"
    }
   ],
   "source": [
    "df_master.tweet_id.dtype"
   ]
  },
  {
   "cell_type": "markdown",
   "metadata": {},
   "source": [
    "## Visualizing"
   ]
  },
  {
   "cell_type": "code",
   "execution_count": 310,
   "metadata": {},
   "outputs": [
    {
     "data": {
      "image/png": "[encoded data removed]",
      "text/plain": [
       "<Figure size 432x288 with 1 Axes>"
      ]
     },
     "metadata": {
      "needs_background": "light"
     },
     "output_type": "display_data"
    }
   ],
   "source": [
    "#visuale sourse for tweets \n",
    "plt.style.use('bmh')\n",
    "sns.countplot(data = df_master, y = 'source')\n",
    "plt.title('Tweet Source Distribution', fontsize=16)\n",
    "plt.xlabel('Tweet Count', fontsize=12)\n",
    "plt.ylabel('Source', fontsize=12)\n",
    "plt.savefig('tweet-source.png');\n"
   ]
  },
  {
   "cell_type": "code",
   "execution_count": 311,
   "metadata": {},
   "outputs": [
    {
     "data": {
      "image/png": "[encoded data removed]",
      "text/plain": [
       "<Figure size 432x288 with 1 Axes>"
      ]
     },
     "metadata": {
      "needs_background": "light"
     },
     "output_type": "display_data"
    }
   ],
   "source": [
    "# visuale favorite with best retweet\n",
    "ax = sns.scatterplot(x='retweet_count', y='favorite_count', data=df_master,\n",
    "                     hue='rating_numerator', hue_norm=(5, 20), s=15) \n",
    "ax.set(xlabel='Retweet count', ylabel='Favorite count', title='Favorits VS Retweets')\n",
    "plt.show()"
   ]
  },
  {
   "cell_type": "code",
   "execution_count": 312,
   "metadata": {},
   "outputs": [
    {
     "data": {
      "image/png": "[encoded data removed]",
      "text/plain": [
       "<Figure size 432x288 with 1 Axes>"
      ]
     },
     "metadata": {
      "needs_background": "light"
     },
     "output_type": "display_data"
    }
   ],
   "source": [
    "# visuale top 10 dog breed \n",
    "top_breeds = df_master.breed.value_counts()[0:10].sort_values(axis=0, ascending=False)\n",
    "top_breeds.plot(kind = 'barh', color=['steelblue'])\n",
    "plt.title('Top 10 Dog Breeds', size=16)\n",
    "plt.xlabel('Count', size=12)\n",
    "plt.ylabel('Breed', size=12)\n",
    "plt.savefig('top-breeds.png');"
   ]
  },
  {
   "cell_type": "code",
   "execution_count": 313,
   "metadata": {},
   "outputs": [
    {
     "data": {
      "image/png": "[encoded data removed]",
      "text/plain": [
       "<Figure size 432x288 with 1 Axes>"
      ]
     },
     "metadata": {
      "needs_background": "light"
     },
     "output_type": "display_data"
    }
   ],
   "source": [
    "# visuale top doog names \n",
    "top_doog_name = df_master.name.value_counts()[0:10].sort_values(axis=0, ascending=False)\n",
    "top_doog_name.plot(kind = 'barh', color=['steelblue'])\n",
    "plt.title('Top 10 Dog names', size=16)\n",
    "plt.xlabel('Count', size=12)\n",
    "plt.ylabel('Breed', size=12)\n",
    "plt.savefig('top-breeds.png');"
   ]
  },
  {
   "cell_type": "code",
   "execution_count": 314,
   "metadata": {},
   "outputs": [
    {
     "data": {
      "image/png": "[encoded data removed]",
      "text/plain": [
       "<Figure size 432x288 with 1 Axes>"
      ]
     },
     "metadata": {
      "needs_background": "light"
     },
     "output_type": "display_data"
    }
   ],
   "source": [
    "# visuale top  dog stage\n",
    "sorted_stage = df_master['dog_stage'].value_counts()[1:6].index\n",
    "sns.countplot(data = df_master, x = 'dog_stage', order = sorted_stage, orient = 'h')\n",
    "plt.xlabel('Dog Stage', fontsize=12)\n",
    "plt.ylabel('Count', fontsize=12)\n",
    "plt.title('Top Stages',fontsize=16);\n"
   ]
  },
  {
   "cell_type": "code",
   "execution_count": 315,
   "metadata": {},
   "outputs": [
    {
     "data": {
      "image/png": "[encoded data removed]",
      "text/plain": [
       "<Figure size 432x288 with 1 Axes>"
      ]
     },
     "metadata": {
      "needs_background": "light"
     },
     "output_type": "display_data"
    }
   ],
   "source": [
    "#visuale favorit for dog stage\n",
    "dog_fav = sns.scatterplot(x='dog_stage', y='favorite_count', data=df_master,\n",
    "                     hue='rating_numerator', hue_norm=(5, 100), s=75) \n",
    "dog_fav.set(xlabel='Dog Stage', ylabel='Favorite count', title='Favorits VS dog stage')\n",
    "plt.show()"
   ]
  },
  {
   "cell_type": "code",
   "execution_count": 316,
   "metadata": {},
   "outputs": [
    {
     "data": {
      "image/png": "[encoded data removed]",
      "text/plain": [
       "<Figure size 432x288 with 1 Axes>"
      ]
     },
     "metadata": {
      "needs_background": "light"
     },
     "output_type": "display_data"
    }
   ],
   "source": [
    "#visuale rating for dog stage\n",
    "dog_rating = sns.scatterplot(x='dog_stage', y='rating_numerator', data=df_master,\n",
    "                      hue_norm=(5, 100), s=75) \n",
    "dog_rating.set(xlabel='Dog Stage', ylabel='Favorite count', title='dog stage VS rating numerator')\n",
    "plt.show()"
   ]
  }
 ],
 "metadata": {
  "kernelspec": {
   "display_name": "Python 3",
   "language": "python",
   "name": "python3"
  },
  "language_info": {
   "codemirror_mode": {
    "name": "ipython",
    "version": 3
   },
   "file_extension": ".py",
   "mimetype": "text/x-python",
   "name": "python",
   "nbconvert_exporter": "python",
   "pygments_lexer": "ipython3",
   "version": "3.8.5"
  }
 },
 "nbformat": 4,
 "nbformat_minor": 4
}
